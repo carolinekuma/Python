{
 "cells": [
  {
   "cell_type": "markdown",
   "metadata": {},
   "source": [
    "# Advanced Business Analytics (CIS442D)\n",
    "\n",
    "## Homework Assignment 1\n",
    "### Due date: 1/10/2017 23:55\n",
    "### Submission Instructions\n",
    "1. Each student should submit an individual homework assignment.\n",
    "2. Discussing solutions with others is allowed.\n",
    "3. Copying solutions is prohibited.\n",
    "4. Late submissions will not be accepted.\n",
    "5. Write your solutions in Jupyter IPython notebooks. Use markdown cells to format your document. Your solutions should be replicable, as it will be executed on the grader's computer.\n",
    "6. Solution files should be uploaded to Blackboard.\n",
    "---"
   ]
  },
  {
   "cell_type": "markdown",
   "metadata": {
    "collapsed": true
   },
   "source": [
    "# Problem 1: Strong Password Detection\n",
    "From\n",
    "\"Automate the Boring Stuff with Python: Practical Programming for Total Beginners\" by Al Sweigart (http://a.co/7Onl06W, https://automatetheboringstuff.com/chapter7/)\n",
    "\n",
    "Write a function that uses regular expressions to verify that a password string it is passed is strong. A strong password is defined as one that is at least eight characters long, contains both uppercase and lowercase characters, has at least one digit and does not contain space charachters (e.g., \" \", \\n, \\t). You may need to test the string against multiple regex patterns to validate its strength."
   ]
  },
  {
   "cell_type": "code",
   "execution_count": 4,
   "metadata": {
    "collapsed": false
   },
   "outputs": [
    {
     "name": "stdout",
     "output_type": "stream",
     "text": [
      "At least 8 characters\n",
      "At least 1 uppercase letter (A-Z)\n",
      "At least 1 uppercase letter (A-Z)\n",
      "At least 1 number (0-9)\n",
      "Don't use space characters\n",
      "A strong password\n"
     ]
    }
   ],
   "source": [
    "# write your solution to Problem (1) here\n",
    "import re\n",
    "\n",
    "def test_password(s):\n",
    "    if len(s) < 8:\n",
    "        return \"At least 8 characters\"\n",
    "    if re.search(r\"[A-Z]\",s) is None:\n",
    "        return \"At least 1 uppercase letter (A-Z)\"\n",
    "    if re.search(r\"[a-z]\",s) is None:\n",
    "        return \"At least 1 lowercase letter (a-z)\"\n",
    "    if re.search(r\"\\d\",s) is None:\n",
    "        return \"At least 1 number (0-9)\"\n",
    "    if not re.search(r\"\\s\",s) is None:\n",
    "        return \"Don't use space characters\"\n",
    "    return \"A strong password\"\n",
    "    \n",
    "    \n",
    "# test code \n",
    "print(test_password('hello'))\n",
    "print(test_password('hello world'))\n",
    "print(test_password('helloworld'))\n",
    "print(test_password('helloWorld'))\n",
    "print(test_password('helloWorld9\\n'))\n",
    "print(test_password('helloWorld9'))"
   ]
  },
  {
   "cell_type": "markdown",
   "metadata": {},
   "source": [
    "# Problem 2: Caeser cipher\n",
    "Read more at: https://inventwithpython.com/hacking/chapter1.html and https://en.wikipedia.org/wiki/Caesar_cipher\n",
    "\n",
    "Caesar cipher is a simple text encryption technique where each letter is substituted by another letter in some fixed distance n. For example, for n=1 the word \"bat\" is encrypted to \"cbu\" (the first letter c replaces b, b replaces a, and u replaces t), and the word \"zebra\" is replaced by \"afcsb\". Similarly, for n=2, the word \"bat\" is encrypted to \"dcv\". \n",
    "\n",
    "1. write the function encrypt(s,n), which encrypts the word s by a shift of n letters. \n",
    "2. write the function decrypt(s,n), which decrypts an encoded word s.\n",
    "3. encode the file novel.txt with n=7 and save it as \"novel_encoded.txt\"\n",
    "4. decode the file \"novel_encoded.txt\" to \"novel_decoded.txt\". Make sure the files are identical.\n",
    "5. the file \"mystery.txt\" contains an encoded novel. Decipher the book and save it under \"mystery_decoded.txt\". What is the title of the book?\n",
    "\n",
    "Note: you may ignore non-alphabet characters"
   ]
  },
  {
   "cell_type": "code",
   "execution_count": null,
   "metadata": {
    "collapsed": false
   },
   "outputs": [],
   "source": [
    "# write your solution to Problem (2) here\n",
    "\n",
    "# 1. write the function encrypt(s,n), which encrypts the word s by a shift of n letters.\n",
    "def encrypt(s,n):\n",
    "    encrypttext = \"\"\n",
    "    for c in s:\n",
    "        if c.isalpha():\n",
    "            num = ord(c) + n\n",
    "            if c.isupper():\n",
    "                if num > ord('Z'):\n",
    "                    num -= 26\n",
    "            elif c.islower():\n",
    "                if num > ord('z'):\n",
    "                num -= 26\n",
    "            encrypttext += chr(num)\n",
    "        else:\n",
    "            encrypttext += c\n",
    "    return encrypttext\n",
    "\n",
    "# 2. write the function decrypt(s,n), which decrypts an encoded word s.\n",
    "def decrypt(s,n):\n",
    "    decrypttext = \"\"\n",
    "    for c in s:\n",
    "        if c.isalpha():\n",
    "            num = ord(c) - n\n",
    "            if c.isupper():\n",
    "                if num < ord('A'):\n",
    "                    num += 26\n",
    "            elif c.islower():\n",
    "                if num < ord('a'):\n",
    "                num += 26\n",
    "            decrypttext += chr(num)\n",
    "        else:\n",
    "            decrypttext += c\n",
    "    return decrypttext\n",
    "\n",
    "# 3. encode the file novel.txt with n=7 and save it as \"novel_encoded.txt\"\n",
    "encoded = open('novel_encoded.txt', 'w')\n",
    "f = open('novel.txt')\n",
    "for s in f:\n",
    "    encoded.write(encrypt(s,7))\n",
    "encoded.close()\n",
    "f.close()\n",
    "\n",
    "# 4. decode the file \"novel_encoded.txt\" to \"novel_decoded.txt\". Make sure the files are identical.\n",
    "decoded = open('novel_decoded.txt','w')\n",
    "f = open('novel_encoded.txt')\n",
    "for s in f:\n",
    "    decoded.write(decrypt(s,7))\n",
    "decoded.close()\n",
    "f.close()\n",
    "\n",
    "# 5. the file \"mystery.txt\" contains an encoded novel. Decipher the book and save it under \"mystery_decoded.txt\". \n",
    "mystery_decoded = open('mystery_decoded.txt','w')\n",
    "f = open('mystry.txt')\n",
    "for s in f:\n",
    "    mystry_decoded.write(decrypt(s,20))\n",
    "mystery_decoded.close()\n",
    "f.close()\n",
    "#    What is the title of the book?  Tresure Island"
   ]
  },
  {
   "cell_type": "markdown",
   "metadata": {
    "collapsed": true
   },
   "source": [
    "# Exercise 3 (IPython)\n",
    "In this exercise, you will implement a sorting algorithm in Python and measure its performance. \n",
    "  1. Implemenet the function _mysort(l)_ which receives a list _l_ and returns a sorted copy. Explain your algorithm.\n",
    "  2. Apply the function on the following lists: \n",
    "    1. [ ] (the empty list)\n",
    "    2. [4,1,2,6,1]\n",
    "    3. Generate a random list with 100 numbers (you may use numpy.random.randint). Compare the output of your function with numpy.sort (notice the object types that each function returns)\n",
    "  3. Denote by _d_ the length of the random list. Compare the running time of the functions mysort and numpy.sort on 10 different instances for d=10, 100, 1000, and 10000.\n",
    "  4. Which function ran faster? why?\n",
    "  "
   ]
  },
  {
   "cell_type": "code",
   "execution_count": 10,
   "metadata": {
    "collapsed": false
   },
   "outputs": [],
   "source": [
    "# write your solution to Problem (3.1) here\n",
    "def mysort(l):\n",
    "    sortedl = list(l)\n",
    "    for i in range(len(sortedl)):\n",
    "        for j in range(len(sortedl)-1-i):\n",
    "            if sortedl[j] > sortedl[j+1]:\n",
    "                sortedl[j], sortedl[j+1] = sortedl[j+1], sortedl[j]\n",
    "    return sortedl"
   ]
  },
  {
   "cell_type": "code",
   "execution_count": 31,
   "metadata": {
    "collapsed": false
   },
   "outputs": [
    {
     "name": "stdout",
     "output_type": "stream",
     "text": [
      "[]\n",
      "[1, 1, 2, 4, 6]\n",
      "[36 47 18  5 23 49 33  4 47 47 34 10 12 25 36 15  9  6 45 23 47 49 28 36  1\n",
      " 35 28 34 47 23 11 33  3 36 35  9 29 24  4 27 12 35 46 28  2 45 28 48 27 33\n",
      " 42 39 46  0 32 26 43 45 22 45 21  3 31 38 23 41 31 46 43 26 17 25 19 46 22\n",
      "  2 10 23 16 14 11 22 20 26 20  3 45 23  6 15 39  5 14 11 49 39 44 19 49 46]\n",
      "[0, 1, 2, 2, 3, 3, 3, 4, 4, 5, 5, 6, 6, 9, 9, 10, 10, 11, 11, 11, 12, 12, 14, 14, 15, 15, 16, 17, 18, 19, 19, 20, 20, 21, 22, 22, 22, 23, 23, 23, 23, 23, 23, 24, 25, 25, 26, 26, 26, 27, 27, 28, 28, 28, 28, 29, 31, 31, 32, 33, 33, 33, 34, 34, 35, 35, 35, 36, 36, 36, 36, 38, 39, 39, 39, 41, 42, 43, 43, 44, 45, 45, 45, 45, 45, 46, 46, 46, 46, 46, 47, 47, 47, 47, 47, 48, 49, 49, 49, 49]\n",
      "<class 'list'>\n",
      "[ 0  1  2  2  3  3  3  4  4  5  5  6  6  9  9 10 10 11 11 11 12 12 14 14 15\n",
      " 15 16 17 18 19 19 20 20 21 22 22 22 23 23 23 23 23 23 24 25 25 26 26 26 27\n",
      " 27 28 28 28 28 29 31 31 32 33 33 33 34 34 35 35 35 36 36 36 36 38 39 39 39\n",
      " 41 42 43 43 44 45 45 45 45 45 46 46 46 46 46 47 47 47 47 47 48 49 49 49 49]\n",
      "<class 'numpy.ndarray'>\n"
     ]
    }
   ],
   "source": [
    "# write your solution to Problem (3.2) here\n",
    "import numpy\n",
    "\n",
    "l1 = []\n",
    "print(mysort(l1))\n",
    "\n",
    "l2 = [4,1,2,6,1]\n",
    "print(mysort(l2))\n",
    "\n",
    "l3 = numpy.random.randint(50,size = 100)\n",
    "print(l3)\n",
    "print(mysort(l3))\n",
    "print(type(mysort(l3)))\n",
    "print(numpy.sort(l3))\n",
    "print(type(numpy.sort(l3)))"
   ]
  },
  {
   "cell_type": "code",
   "execution_count": 37,
   "metadata": {
    "collapsed": false
   },
   "outputs": [
    {
     "name": "stdout",
     "output_type": "stream",
     "text": [
      "CPU times: user 38 µs, sys: 0 ns, total: 38 µs\n",
      "Wall time: 42.9 µs\n",
      "CPU times: user 165 µs, sys: 112 µs, total: 277 µs\n",
      "Wall time: 196 µs\n",
      "CPU times: user 1.95 ms, sys: 2 µs, total: 1.96 ms\n",
      "Wall time: 1.97 ms\n",
      "CPU times: user 190 µs, sys: 111 µs, total: 301 µs\n",
      "Wall time: 225 µs\n",
      "CPU times: user 141 ms, sys: 1.77 ms, total: 143 ms\n",
      "Wall time: 143 ms\n",
      "CPU times: user 63 µs, sys: 6 µs, total: 69 µs\n",
      "Wall time: 73.2 µs\n"
     ]
    }
   ],
   "source": [
    "# write your solution to Problem (3.3) here\n",
    "#Denote by d the length of the random list. \n",
    "#Compare the running time of the functions mysort and numpy.sort on 10 different instances for d=10, 100, 1000, and 10000.\n",
    "\n",
    "d = 10\n",
    "l = numpy.random.randint(50,size = d)\n",
    "%time m1 = mysort(l)\n",
    "%time m2 = numpy.sort(l)\n",
    "d = 100\n",
    "l = numpy.random.randint(50,size = d)\n",
    "%time m1 = mysort(l)\n",
    "%time m2 = numpy.sort(l)\n",
    "d = 1000\n",
    "l = numpy.random.randint(50,size = d)\n",
    "%time m1 = mysort(l)\n",
    "%time m2 = numpy.sort(l)"
   ]
  },
  {
   "cell_type": "code",
   "execution_count": null,
   "metadata": {
    "collapsed": true
   },
   "outputs": [],
   "source": [
    "# write your solution to Problem (3.4) here\n",
    "# Which function ran faster? why?\n",
    "\n",
    "# numpy.sort runs faster, because it use the quicksort, which is much faster than the bubble sort I use in my solution."
   ]
  },
  {
   "cell_type": "markdown",
   "metadata": {},
   "source": [
    "# Exercise 4 (OS shell commands)\n",
    "In this exercise, you will use shell commands to process a data file. The file name is \"CrimeStatebyState - clean.csv\" (downloaded from [here](https://ucr.fbi.gov/)). \n"
   ]
  },
  {
   "cell_type": "markdown",
   "metadata": {},
   "source": [
    "### 4.1 cat\n",
    "\n",
    "Print the file to the screen. Make sure the file is in your current working directory by running !pwd and !ls. Use the command cd to change the current working directory. Double click left to the output pane to hide or minimize the output pane."
   ]
  },
  {
   "cell_type": "code",
   "execution_count": null,
   "metadata": {
    "collapsed": false,
    "scrolled": true
   },
   "outputs": [],
   "source": [
    "# write your solution to Problem (4.1) here\n",
    "!cat\"CrimeStatebyState - clean.csv\""
   ]
  },
  {
   "cell_type": "markdown",
   "metadata": {},
   "source": [
    "### 4.2 head\n",
    "\n",
    "Use the command head to print the first 7 rows of the file \"CrimeStatebyState - clean.csv\" "
   ]
  },
  {
   "cell_type": "code",
   "execution_count": null,
   "metadata": {
    "collapsed": false
   },
   "outputs": [],
   "source": [
    "# write your solution to Problem (4.2) here\n",
    "!head -7 \"CrimeStatebyState - clean.csv\""
   ]
  },
  {
   "cell_type": "markdown",
   "metadata": {},
   "source": [
    "### 4.3 grep/egrep\n",
    "The commands grep and egrep can be used to filter lines from files that match certain patterns. This is particulary useful when analyzing data files that cannot fit in memory, but in which the data of interest is relatively small (small enough to fit memory).  \n",
    "\n",
    "Run the following commands\n",
    "  - !egrep \"^(Alabama|State)\" \"CrimeStatebyState - clean.csv\" > alabama.csv\n",
    "  - !cat alabama.csv\n",
    "  \n",
    "Compare the files \"CrimeStatebyState - clean.csv\" and \"alabama.csv\" (the latter was generated by your run). \n",
    "Explain the relation between the two files."
   ]
  },
  {
   "cell_type": "code",
   "execution_count": null,
   "metadata": {
    "collapsed": false,
    "scrolled": true
   },
   "outputs": [],
   "source": [
    "# write your solution to Problem (4.3) here\n",
    "!egreg \"^(Alabama|State)\" \"CrimeStatebyState - clean.csv\" > alabama.csv\n",
    "!cat alabama.csv\n",
    "\n",
    "# The \"alabama.csv\" only contains the data in Alabama. It is a subset of \"CrimeStatebyState - clean.csv\"."
   ]
  },
  {
   "cell_type": "markdown",
   "metadata": {},
   "source": [
    "### 4.4 cut\n",
    "\n",
    "The cut command can be used to extract information from each line. Run the following command:\n",
    "\n",
    "!cut -d\",\" -f1-3 \"CrimeStatebyState - clean.csv\" > \"CrimeStatebyState-cut.csv\"\n",
    "\n",
    "The parameter -d\",\" specifies the columns (field) delimeter (separator), while the parameter -f1-3 indicates that columns 1-3 should be extracted from each line. The \">\" sign indicates that the output should be redirected to the file \"CrimeStatebyState-cut.csv\" (otherwise, it is printed to screen). (You may run \"!cut --help\" for more information on additional parameters).\n",
    "\n",
    "Interpret (make an educated guess of) the data stored in the newly created file \"CrimeStatebyState-cut.csv\"."
   ]
  },
  {
   "cell_type": "code",
   "execution_count": null,
   "metadata": {
    "collapsed": true
   },
   "outputs": [],
   "source": [
    "# write your solution to Problem (4.4) here\n",
    "!cut -d\",\" -f1-3 \"CrimeStatebyState - clean.csv\" > \"CrimeStatebyState-cut.csv\"\n",
    "# The newly stored data \"CrimeStatebyState - clean.csv\" will only contain the first 3 columns (State, Year, Population) in the original \"CrimeStatebyState - clean.csv\".\n"
   ]
  }
 ],
 "metadata": {
  "anaconda-cloud": {},
  "kernelspec": {
   "display_name": "Python [conda root]",
   "language": "python",
   "name": "conda-root-py"
  },
  "language_info": {
   "codemirror_mode": {
    "name": "ipython",
    "version": 3
   },
   "file_extension": ".py",
   "mimetype": "text/x-python",
   "name": "python",
   "nbconvert_exporter": "python",
   "pygments_lexer": "ipython3",
   "version": "3.5.2"
  }
 },
 "nbformat": 4,
 "nbformat_minor": 1
}
